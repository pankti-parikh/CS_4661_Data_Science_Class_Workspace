{
 "cells": [
  {
   "cell_type": "markdown",
   "metadata": {},
   "source": [
    "# Patel Smitkumar Kaushikkumar                                            (CIN: 306587208)"
   ]
  },
  {
   "cell_type": "markdown",
   "metadata": {},
   "source": [
    "# Question2: Debt Prediction"
   ]
  },
  {
   "cell_type": "markdown",
   "metadata": {},
   "source": [
    "## a- Read the dataset file “Credit.csv” (you should download it from CSNS), and assign it to a Pandas DataFrame."
   ]
  },
  {
   "cell_type": "markdown",
   "metadata": {},
   "source": [
    "## b- Check out the dataset. The “Credit” dataset includes “balance” column (average credit card debt for a number of individuals) as target, as well as several features: age, cards (number of credit cards), education (years of education), income (in thousands of dollars), limit (credit limit), marital status, and rating (credit rating)."
   ]
  },
  {
   "cell_type": "code",
   "execution_count": 17,
   "metadata": {},
   "outputs": [
    {
     "data": {
      "text/html": [
       "<div>\n",
       "<style scoped>\n",
       "    .dataframe tbody tr th:only-of-type {\n",
       "        vertical-align: middle;\n",
       "    }\n",
       "\n",
       "    .dataframe tbody tr th {\n",
       "        vertical-align: top;\n",
       "    }\n",
       "\n",
       "    .dataframe thead th {\n",
       "        text-align: right;\n",
       "    }\n",
       "</style>\n",
       "<table border=\"1\" class=\"dataframe\">\n",
       "  <thead>\n",
       "    <tr style=\"text-align: right;\">\n",
       "      <th></th>\n",
       "      <th>Income</th>\n",
       "      <th>Limit</th>\n",
       "      <th>Rating</th>\n",
       "      <th>Cards</th>\n",
       "      <th>Age</th>\n",
       "      <th>Education</th>\n",
       "      <th>Married</th>\n",
       "      <th>Balance</th>\n",
       "    </tr>\n",
       "  </thead>\n",
       "  <tbody>\n",
       "    <tr>\n",
       "      <th>0</th>\n",
       "      <td>14.891</td>\n",
       "      <td>3606</td>\n",
       "      <td>283</td>\n",
       "      <td>2</td>\n",
       "      <td>34</td>\n",
       "      <td>11</td>\n",
       "      <td>1</td>\n",
       "      <td>333</td>\n",
       "    </tr>\n",
       "    <tr>\n",
       "      <th>1</th>\n",
       "      <td>106.025</td>\n",
       "      <td>6645</td>\n",
       "      <td>483</td>\n",
       "      <td>3</td>\n",
       "      <td>82</td>\n",
       "      <td>15</td>\n",
       "      <td>1</td>\n",
       "      <td>903</td>\n",
       "    </tr>\n",
       "    <tr>\n",
       "      <th>2</th>\n",
       "      <td>104.593</td>\n",
       "      <td>7075</td>\n",
       "      <td>514</td>\n",
       "      <td>4</td>\n",
       "      <td>71</td>\n",
       "      <td>11</td>\n",
       "      <td>0</td>\n",
       "      <td>580</td>\n",
       "    </tr>\n",
       "    <tr>\n",
       "      <th>3</th>\n",
       "      <td>148.924</td>\n",
       "      <td>9504</td>\n",
       "      <td>681</td>\n",
       "      <td>3</td>\n",
       "      <td>36</td>\n",
       "      <td>11</td>\n",
       "      <td>0</td>\n",
       "      <td>964</td>\n",
       "    </tr>\n",
       "    <tr>\n",
       "      <th>4</th>\n",
       "      <td>55.882</td>\n",
       "      <td>4897</td>\n",
       "      <td>357</td>\n",
       "      <td>2</td>\n",
       "      <td>68</td>\n",
       "      <td>16</td>\n",
       "      <td>1</td>\n",
       "      <td>331</td>\n",
       "    </tr>\n",
       "  </tbody>\n",
       "</table>\n",
       "</div>"
      ],
      "text/plain": [
       "    Income  Limit  Rating  Cards  Age  Education  Married  Balance\n",
       "0   14.891   3606     283      2   34         11        1      333\n",
       "1  106.025   6645     483      3   82         15        1      903\n",
       "2  104.593   7075     514      4   71         11        0      580\n",
       "3  148.924   9504     681      3   36         11        0      964\n",
       "4   55.882   4897     357      2   68         16        1      331"
      ]
     },
     "execution_count": 17,
     "metadata": {},
     "output_type": "execute_result"
    }
   ],
   "source": [
    "from sklearn import metrics\n",
    "from sklearn.cross_validation import train_test_split\n",
    "from sklearn.linear_model import LinearRegression\n",
    "from sklearn.cross_validation import cross_val_score\n",
    "from sklearn.metrics import accuracy_score \n",
    "\n",
    "import numpy as np\n",
    "import pandas as pd\n",
    "\n",
    "credit_data = pd.read_csv('S:\\MASTERS\\SEMESTER_4\\CS_4661\\HomeWork\\Homework_3\\Credit.csv')\n",
    "credit_data.head()\n"
   ]
  },
  {
   "cell_type": "markdown",
   "metadata": {},
   "source": [
    "## c- Generate the feature matrix and target vector (target is “balance” in this dataset). Then, normalize (scale) the features (note: don’t normalize the target vector!). To normalize the data, you can simply use preprocessing.scale(X) from sklearn."
   ]
  },
  {
   "cell_type": "code",
   "execution_count": 18,
   "metadata": {},
   "outputs": [
    {
     "data": {
      "text/html": [
       "<div>\n",
       "<style scoped>\n",
       "    .dataframe tbody tr th:only-of-type {\n",
       "        vertical-align: middle;\n",
       "    }\n",
       "\n",
       "    .dataframe tbody tr th {\n",
       "        vertical-align: top;\n",
       "    }\n",
       "\n",
       "    .dataframe thead th {\n",
       "        text-align: right;\n",
       "    }\n",
       "</style>\n",
       "<table border=\"1\" class=\"dataframe\">\n",
       "  <thead>\n",
       "    <tr style=\"text-align: right;\">\n",
       "      <th></th>\n",
       "      <th>Income</th>\n",
       "      <th>Limit</th>\n",
       "      <th>Rating</th>\n",
       "      <th>Cards</th>\n",
       "      <th>Age</th>\n",
       "      <th>Education</th>\n",
       "      <th>Married</th>\n",
       "    </tr>\n",
       "  </thead>\n",
       "  <tbody>\n",
       "    <tr>\n",
       "      <th>0</th>\n",
       "      <td>14.891</td>\n",
       "      <td>3606</td>\n",
       "      <td>283</td>\n",
       "      <td>2</td>\n",
       "      <td>34</td>\n",
       "      <td>11</td>\n",
       "      <td>1</td>\n",
       "    </tr>\n",
       "    <tr>\n",
       "      <th>1</th>\n",
       "      <td>106.025</td>\n",
       "      <td>6645</td>\n",
       "      <td>483</td>\n",
       "      <td>3</td>\n",
       "      <td>82</td>\n",
       "      <td>15</td>\n",
       "      <td>1</td>\n",
       "    </tr>\n",
       "    <tr>\n",
       "      <th>2</th>\n",
       "      <td>104.593</td>\n",
       "      <td>7075</td>\n",
       "      <td>514</td>\n",
       "      <td>4</td>\n",
       "      <td>71</td>\n",
       "      <td>11</td>\n",
       "      <td>0</td>\n",
       "    </tr>\n",
       "    <tr>\n",
       "      <th>3</th>\n",
       "      <td>148.924</td>\n",
       "      <td>9504</td>\n",
       "      <td>681</td>\n",
       "      <td>3</td>\n",
       "      <td>36</td>\n",
       "      <td>11</td>\n",
       "      <td>0</td>\n",
       "    </tr>\n",
       "    <tr>\n",
       "      <th>4</th>\n",
       "      <td>55.882</td>\n",
       "      <td>4897</td>\n",
       "      <td>357</td>\n",
       "      <td>2</td>\n",
       "      <td>68</td>\n",
       "      <td>16</td>\n",
       "      <td>1</td>\n",
       "    </tr>\n",
       "  </tbody>\n",
       "</table>\n",
       "</div>"
      ],
      "text/plain": [
       "    Income  Limit  Rating  Cards  Age  Education  Married\n",
       "0   14.891   3606     283      2   34         11        1\n",
       "1  106.025   6645     483      3   82         15        1\n",
       "2  104.593   7075     514      4   71         11        0\n",
       "3  148.924   9504     681      3   36         11        0\n",
       "4   55.882   4897     357      2   68         16        1"
      ]
     },
     "execution_count": 18,
     "metadata": {},
     "output_type": "execute_result"
    }
   ],
   "source": [
    "feature_cols=['Income','Limit','Rating','Cards','Age','Education','Married']\n",
    "X = credit_data[feature_cols]\n",
    "X.head()"
   ]
  },
  {
   "cell_type": "code",
   "execution_count": 19,
   "metadata": {},
   "outputs": [
    {
     "data": {
      "text/plain": [
       "0    333\n",
       "1    903\n",
       "2    580\n",
       "3    964\n",
       "4    331\n",
       "Name: Balance, dtype: int64"
      ]
     },
     "execution_count": 19,
     "metadata": {},
     "output_type": "execute_result"
    }
   ],
   "source": [
    "y = credit_data['Balance']\n",
    "y.head()"
   ]
  },
  {
   "cell_type": "code",
   "execution_count": 20,
   "metadata": {
    "scrolled": true
   },
   "outputs": [
    {
     "data": {
      "text/plain": [
       "array([[-0.86158299, -0.48999879, -0.46553881, ..., -1.2576741 ,\n",
       "        -0.78492991,  0.79539491],\n",
       "       [ 1.72743711,  0.82826106,  0.82870309, ...,  1.5284506 ,\n",
       "         0.49658831,  0.79539491],\n",
       "       [ 1.68675551,  1.01478681,  1.02931059, ...,  0.88996369,\n",
       "        -0.78492991, -1.25723711],\n",
       "       ...,\n",
       "       [ 0.35946155, -0.24491264, -0.21963285, ...,  0.65778663,\n",
       "        -0.46455035,  0.79539491],\n",
       "       [-0.21280808, -0.95891584, -1.05441888, ..., -0.67723146,\n",
       "        -0.1441708 ,  0.79539491],\n",
       "       [-0.75334493,  0.34199278,  0.38866085, ...,  0.48365384,\n",
       "        -2.06644812, -1.25723711]])"
      ]
     },
     "execution_count": 20,
     "metadata": {},
     "output_type": "execute_result"
    }
   ],
   "source": [
    "# normalization of data using prprocessing.scale\n",
    "from sklearn import preprocessing\n",
    "X_scaled = preprocessing.scale(X, axis=0, with_mean=True, with_std=True, copy=True)\n",
    "X_scaled\n"
   ]
  },
  {
   "cell_type": "markdown",
   "metadata": {},
   "source": [
    "## d- Split the dataset into testing and training sets with the following parameters: test_size=0.24, random_state=4."
   ]
  },
  {
   "cell_type": "code",
   "execution_count": 21,
   "metadata": {},
   "outputs": [
    {
     "name": "stdout",
     "output_type": "stream",
     "text": [
      "(304, 7)\n",
      "(304,)\n",
      "(96, 7)\n",
      "(96,)\n"
     ]
    }
   ],
   "source": [
    "X_train, X_test, y_train, y_test = train_test_split(X_scaled, y, test_size=0.24, random_state=4)\n",
    "print(X_train.shape)\n",
    "print(y_train.shape)\n",
    "\n",
    "print(X_test.shape)\n",
    "print(y_test.shape)"
   ]
  },
  {
   "cell_type": "markdown",
   "metadata": {},
   "source": [
    "## e- Use Linear Regression to train a linear model on the training set. Check the coefficients of the linear regression model. Which feature is the most important? Which feature is the least important?"
   ]
  },
  {
   "cell_type": "code",
   "execution_count": 22,
   "metadata": {},
   "outputs": [
    {
     "name": "stdout",
     "output_type": "stream",
     "text": [
      "517.6919750342976\n",
      "\n",
      "\n",
      "[-264.98372644  131.99156792  478.53169403   14.72121881  -29.7832935\n",
      "    1.67827514  -20.20616103]\n",
      "\n",
      "\n",
      "{'Income': -264.98372643959664, 'Limit': 131.99156791536168, 'Rating': 478.53169403492814, 'Cards': 14.721218808685544, 'Age': -29.783293502230666, 'Education': 1.6782751399717233, 'Married': -20.206161027401002}\n"
     ]
    }
   ],
   "source": [
    "credit_linreg = LinearRegression()\n",
    "credit_linreg.fit(X_train , y_train) \n",
    "\n",
    "print(credit_linreg.intercept_)\n",
    "\n",
    "print('\\n')\n",
    "# print(feature_cols)\n",
    "print(credit_linreg.coef_)\n",
    "\n",
    "print('\\n')\n",
    "coef_of_features = dict(zip(feature_cols, credit_linreg.coef_))\n",
    "print(coef_of_features)"
   ]
  },
  {
   "cell_type": "markdown",
   "metadata": {},
   "source": [
    "## BEST IMPORTANT FEATURE :  Rating\n",
    "\n",
    "## LEAST IMPORTANT FEATURE : Income"
   ]
  },
  {
   "cell_type": "markdown",
   "metadata": {},
   "source": [
    "## f- Predict “balance” for the users in testing set. Then, compare the predicted balance with the actual balance by calculating and reporting the RMSE (as we saw in lab tutorial 4)."
   ]
  },
  {
   "cell_type": "code",
   "execution_count": 23,
   "metadata": {},
   "outputs": [
    {
     "name": "stdout",
     "output_type": "stream",
     "text": [
      "[ 1.40192822e+03  3.72390498e+02  3.09606997e+02  7.75587837e+02\n",
      "  3.63641910e+02  9.54490329e+02  3.20745279e+02 -2.32591690e+02\n",
      "  3.99394342e+02  6.01919205e+02 -2.52478552e+02  3.82362570e+02\n",
      "  4.72524424e+02  7.15924136e+02  1.11080816e+01  6.76777695e+02\n",
      " -1.10205182e+02  2.34123414e+02 -2.17604376e+02  1.36106372e+03\n",
      "  3.62716990e+02 -7.18441620e+01  3.46590403e+02 -3.48468421e+00\n",
      " -1.98897875e+02 -3.79979558e+01  7.87248445e+02  3.41641943e+02\n",
      "  6.76645933e+02 -5.36248977e+01  7.73056436e+02  1.50270904e+01\n",
      "  9.34623394e+02  3.80185173e+02  7.48107862e+02 -2.85720687e+02\n",
      "  1.00583355e+03  5.07594510e+02 -1.40361418e+02  1.10973338e+03\n",
      "  1.08474720e+03  3.98005654e+02  6.40559128e+02  9.08998220e+02\n",
      "  6.99056037e+02  7.92919368e+02  3.82003132e+02  9.70862036e+02\n",
      "  3.34390882e+02  1.16908059e+03  2.43605505e+02  2.78833488e+02\n",
      " -6.23362942e-01  3.85459830e+01  2.49931072e+02  8.25222693e+02\n",
      " -1.98555175e+02  5.71140218e+01  1.17285043e+03  9.81760238e+02\n",
      " -6.84711889e+00  2.70524823e+02  1.08559503e+03  7.15655323e+02\n",
      "  1.30819411e+02  5.64236980e+02  8.30184087e+02  1.49315369e+03\n",
      "  8.63297507e+02  4.74956374e+02  9.84021756e+01  6.89313125e+02\n",
      "  9.13786870e+02  4.31100337e+02  8.78305055e+02 -1.75046527e+02\n",
      " -1.04907554e+02  1.40496710e+03  1.01565064e+03  6.65436313e+01\n",
      "  1.92415294e+02  4.70577920e+02  1.10527713e+03  8.87580838e+02\n",
      "  1.06491174e+03  8.09197398e+02  4.77326285e+02  8.75818625e+02\n",
      "  1.03458765e+03 -1.92109932e+02 -1.47672260e+01  9.64020835e+02\n",
      "  5.05529492e+02  1.08659975e+03 -2.63344522e+02  9.93883438e+01]\n"
     ]
    }
   ],
   "source": [
    "y_prediction = credit_linreg.predict(X_test)\n",
    "print(y_prediction)"
   ]
  },
  {
   "cell_type": "markdown",
   "metadata": {},
   "source": [
    "## g- Now, use 10-fold Cross-Validation to evaluate the performance of a linear regression in predicting the balance. Thus, rather than splitting the dataset into testing and training, use Cross-Validation to evaluate the regression performance. What is the RMSE when you use cross validation?"
   ]
  },
  {
   "cell_type": "code",
   "execution_count": 24,
   "metadata": {},
   "outputs": [
    {
     "name": "stdout",
     "output_type": "stream",
     "text": [
      "RMSE:  161.51385491175333\n"
     ]
    }
   ],
   "source": [
    "mse = metrics.mean_squared_error(y_test, y_prediction)\n",
    "rmse = np.sqrt(mse)\n",
    "print('RMSE: ' , rmse)"
   ]
  },
  {
   "cell_type": "code",
   "execution_count": 25,
   "metadata": {},
   "outputs": [
    {
     "name": "stdout",
     "output_type": "stream",
     "text": [
      "[-23646.90415342 -32003.04401232 -35462.64435619 -37327.60719635\n",
      " -14341.32205938 -33628.37104224 -31631.99317834 -12491.00334951\n",
      " -20749.61212176 -23204.9474346 ]\n"
     ]
    }
   ],
   "source": [
    "accuracy_list = cross_val_score(credit_linreg, X, y, cv=10, scoring='neg_mean_squared_error')\n",
    "print(accuracy_list)"
   ]
  },
  {
   "cell_type": "code",
   "execution_count": 26,
   "metadata": {},
   "outputs": [
    {
     "name": "stdout",
     "output_type": "stream",
     "text": [
      "[153.7754992  178.89394627 188.31527914 193.20353826 119.75525901\n",
      " 183.38039983 177.85385343 111.76315739 144.04725656 152.331702  ]\n"
     ]
    }
   ],
   "source": [
    "mse_list_positive = -accuracy_list\n",
    "rmse_list = np.sqrt(mse_list_positive)\n",
    "print(rmse_list)"
   ]
  },
  {
   "cell_type": "code",
   "execution_count": 27,
   "metadata": {},
   "outputs": [
    {
     "name": "stdout",
     "output_type": "stream",
     "text": [
      "Mean value of RMSE list :  160.33198910744073\n"
     ]
    }
   ],
   "source": [
    "print('Mean value of RMSE list : ' ,rmse_list.mean())"
   ]
  },
  {
   "cell_type": "code",
   "execution_count": null,
   "metadata": {},
   "outputs": [],
   "source": []
  }
 ],
 "metadata": {
  "kernelspec": {
   "display_name": "Python 3",
   "language": "python",
   "name": "python3"
  },
  "language_info": {
   "codemirror_mode": {
    "name": "ipython",
    "version": 3
   },
   "file_extension": ".py",
   "mimetype": "text/x-python",
   "name": "python",
   "nbconvert_exporter": "python",
   "pygments_lexer": "ipython3",
   "version": "3.6.5"
  }
 },
 "nbformat": 4,
 "nbformat_minor": 2
}
